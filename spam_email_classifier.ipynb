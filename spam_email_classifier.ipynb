{
  "nbformat": 4,
  "nbformat_minor": 0,
  "metadata": {
    "colab": {
      "provenance": [],
      "collapsed_sections": []
    },
    "kernelspec": {
      "name": "python3",
      "display_name": "Python 3"
    },
    "language_info": {
      "name": "python"
    }
  },
  "cells": [
    {
      "cell_type": "code",
      "execution_count": 1,
      "metadata": {
        "id": "3qv2p4CZsWL_"
      },
      "outputs": [],
      "source": [
        "import pandas as pd \n",
        "import numpy as np"
      ]
    },
    {
      "cell_type": "markdown",
      "source": [
        "Read Data"
      ],
      "metadata": {
        "id": "OIjp9iwyI5s3"
      }
    },
    {
      "cell_type": "code",
      "source": [
        "df=pd.read_csv('/content/spam.csv',encoding='latin-1')\n",
        "df.head()"
      ],
      "metadata": {
        "colab": {
          "base_uri": "https://localhost:8080/",
          "height": 206
        },
        "id": "Hl-tJmtLtD58",
        "outputId": "db76db27-8a70-47f0-b819-8db988268dae"
      },
      "execution_count": 3,
      "outputs": [
        {
          "output_type": "execute_result",
          "data": {
            "text/plain": [
              "     v1                                                 v2 Unnamed: 2  \\\n",
              "0   ham  Go until jurong point, crazy.. Available only ...        NaN   \n",
              "1   ham                      Ok lar... Joking wif u oni...        NaN   \n",
              "2  spam  Free entry in 2 a wkly comp to win FA Cup fina...        NaN   \n",
              "3   ham  U dun say so early hor... U c already then say...        NaN   \n",
              "4   ham  Nah I don't think he goes to usf, he lives aro...        NaN   \n",
              "\n",
              "  Unnamed: 3 Unnamed: 4  \n",
              "0        NaN        NaN  \n",
              "1        NaN        NaN  \n",
              "2        NaN        NaN  \n",
              "3        NaN        NaN  \n",
              "4        NaN        NaN  "
            ],
            "text/html": [
              "\n",
              "  <div id=\"df-323ebc58-fff4-48b2-8eae-04287ce4902b\">\n",
              "    <div class=\"colab-df-container\">\n",
              "      <div>\n",
              "<style scoped>\n",
              "    .dataframe tbody tr th:only-of-type {\n",
              "        vertical-align: middle;\n",
              "    }\n",
              "\n",
              "    .dataframe tbody tr th {\n",
              "        vertical-align: top;\n",
              "    }\n",
              "\n",
              "    .dataframe thead th {\n",
              "        text-align: right;\n",
              "    }\n",
              "</style>\n",
              "<table border=\"1\" class=\"dataframe\">\n",
              "  <thead>\n",
              "    <tr style=\"text-align: right;\">\n",
              "      <th></th>\n",
              "      <th>v1</th>\n",
              "      <th>v2</th>\n",
              "      <th>Unnamed: 2</th>\n",
              "      <th>Unnamed: 3</th>\n",
              "      <th>Unnamed: 4</th>\n",
              "    </tr>\n",
              "  </thead>\n",
              "  <tbody>\n",
              "    <tr>\n",
              "      <th>0</th>\n",
              "      <td>ham</td>\n",
              "      <td>Go until jurong point, crazy.. Available only ...</td>\n",
              "      <td>NaN</td>\n",
              "      <td>NaN</td>\n",
              "      <td>NaN</td>\n",
              "    </tr>\n",
              "    <tr>\n",
              "      <th>1</th>\n",
              "      <td>ham</td>\n",
              "      <td>Ok lar... Joking wif u oni...</td>\n",
              "      <td>NaN</td>\n",
              "      <td>NaN</td>\n",
              "      <td>NaN</td>\n",
              "    </tr>\n",
              "    <tr>\n",
              "      <th>2</th>\n",
              "      <td>spam</td>\n",
              "      <td>Free entry in 2 a wkly comp to win FA Cup fina...</td>\n",
              "      <td>NaN</td>\n",
              "      <td>NaN</td>\n",
              "      <td>NaN</td>\n",
              "    </tr>\n",
              "    <tr>\n",
              "      <th>3</th>\n",
              "      <td>ham</td>\n",
              "      <td>U dun say so early hor... U c already then say...</td>\n",
              "      <td>NaN</td>\n",
              "      <td>NaN</td>\n",
              "      <td>NaN</td>\n",
              "    </tr>\n",
              "    <tr>\n",
              "      <th>4</th>\n",
              "      <td>ham</td>\n",
              "      <td>Nah I don't think he goes to usf, he lives aro...</td>\n",
              "      <td>NaN</td>\n",
              "      <td>NaN</td>\n",
              "      <td>NaN</td>\n",
              "    </tr>\n",
              "  </tbody>\n",
              "</table>\n",
              "</div>\n",
              "      <button class=\"colab-df-convert\" onclick=\"convertToInteractive('df-323ebc58-fff4-48b2-8eae-04287ce4902b')\"\n",
              "              title=\"Convert this dataframe to an interactive table.\"\n",
              "              style=\"display:none;\">\n",
              "        \n",
              "  <svg xmlns=\"http://www.w3.org/2000/svg\" height=\"24px\"viewBox=\"0 0 24 24\"\n",
              "       width=\"24px\">\n",
              "    <path d=\"M0 0h24v24H0V0z\" fill=\"none\"/>\n",
              "    <path d=\"M18.56 5.44l.94 2.06.94-2.06 2.06-.94-2.06-.94-.94-2.06-.94 2.06-2.06.94zm-11 1L8.5 8.5l.94-2.06 2.06-.94-2.06-.94L8.5 2.5l-.94 2.06-2.06.94zm10 10l.94 2.06.94-2.06 2.06-.94-2.06-.94-.94-2.06-.94 2.06-2.06.94z\"/><path d=\"M17.41 7.96l-1.37-1.37c-.4-.4-.92-.59-1.43-.59-.52 0-1.04.2-1.43.59L10.3 9.45l-7.72 7.72c-.78.78-.78 2.05 0 2.83L4 21.41c.39.39.9.59 1.41.59.51 0 1.02-.2 1.41-.59l7.78-7.78 2.81-2.81c.8-.78.8-2.07 0-2.86zM5.41 20L4 18.59l7.72-7.72 1.47 1.35L5.41 20z\"/>\n",
              "  </svg>\n",
              "      </button>\n",
              "      \n",
              "  <style>\n",
              "    .colab-df-container {\n",
              "      display:flex;\n",
              "      flex-wrap:wrap;\n",
              "      gap: 12px;\n",
              "    }\n",
              "\n",
              "    .colab-df-convert {\n",
              "      background-color: #E8F0FE;\n",
              "      border: none;\n",
              "      border-radius: 50%;\n",
              "      cursor: pointer;\n",
              "      display: none;\n",
              "      fill: #1967D2;\n",
              "      height: 32px;\n",
              "      padding: 0 0 0 0;\n",
              "      width: 32px;\n",
              "    }\n",
              "\n",
              "    .colab-df-convert:hover {\n",
              "      background-color: #E2EBFA;\n",
              "      box-shadow: 0px 1px 2px rgba(60, 64, 67, 0.3), 0px 1px 3px 1px rgba(60, 64, 67, 0.15);\n",
              "      fill: #174EA6;\n",
              "    }\n",
              "\n",
              "    [theme=dark] .colab-df-convert {\n",
              "      background-color: #3B4455;\n",
              "      fill: #D2E3FC;\n",
              "    }\n",
              "\n",
              "    [theme=dark] .colab-df-convert:hover {\n",
              "      background-color: #434B5C;\n",
              "      box-shadow: 0px 1px 3px 1px rgba(0, 0, 0, 0.15);\n",
              "      filter: drop-shadow(0px 1px 2px rgba(0, 0, 0, 0.3));\n",
              "      fill: #FFFFFF;\n",
              "    }\n",
              "  </style>\n",
              "\n",
              "      <script>\n",
              "        const buttonEl =\n",
              "          document.querySelector('#df-323ebc58-fff4-48b2-8eae-04287ce4902b button.colab-df-convert');\n",
              "        buttonEl.style.display =\n",
              "          google.colab.kernel.accessAllowed ? 'block' : 'none';\n",
              "\n",
              "        async function convertToInteractive(key) {\n",
              "          const element = document.querySelector('#df-323ebc58-fff4-48b2-8eae-04287ce4902b');\n",
              "          const dataTable =\n",
              "            await google.colab.kernel.invokeFunction('convertToInteractive',\n",
              "                                                     [key], {});\n",
              "          if (!dataTable) return;\n",
              "\n",
              "          const docLinkHtml = 'Like what you see? Visit the ' +\n",
              "            '<a target=\"_blank\" href=https://colab.research.google.com/notebooks/data_table.ipynb>data table notebook</a>'\n",
              "            + ' to learn more about interactive tables.';\n",
              "          element.innerHTML = '';\n",
              "          dataTable['output_type'] = 'display_data';\n",
              "          await google.colab.output.renderOutput(dataTable, element);\n",
              "          const docLink = document.createElement('div');\n",
              "          docLink.innerHTML = docLinkHtml;\n",
              "          element.appendChild(docLink);\n",
              "        }\n",
              "      </script>\n",
              "    </div>\n",
              "  </div>\n",
              "  "
            ]
          },
          "metadata": {},
          "execution_count": 3
        }
      ]
    },
    {
      "cell_type": "code",
      "source": [
        "df.shape"
      ],
      "metadata": {
        "colab": {
          "base_uri": "https://localhost:8080/"
        },
        "id": "ILeaVKrgtJui",
        "outputId": "a84e82e7-941d-4d74-bead-e6900e55acaf"
      },
      "execution_count": 4,
      "outputs": [
        {
          "output_type": "execute_result",
          "data": {
            "text/plain": [
              "(5572, 5)"
            ]
          },
          "metadata": {},
          "execution_count": 4
        }
      ]
    },
    {
      "cell_type": "markdown",
      "source": [
        "Verifying null values"
      ],
      "metadata": {
        "id": "0-hXlcxCI9q4"
      }
    },
    {
      "cell_type": "code",
      "source": [
        "df.info()"
      ],
      "metadata": {
        "colab": {
          "base_uri": "https://localhost:8080/"
        },
        "id": "3mg8g5ZwtN4q",
        "outputId": "3e685b80-59e0-43d8-f2a1-a1e4ad8f11c1"
      },
      "execution_count": 5,
      "outputs": [
        {
          "output_type": "stream",
          "name": "stdout",
          "text": [
            "<class 'pandas.core.frame.DataFrame'>\n",
            "RangeIndex: 5572 entries, 0 to 5571\n",
            "Data columns (total 5 columns):\n",
            " #   Column      Non-Null Count  Dtype \n",
            "---  ------      --------------  ----- \n",
            " 0   v1          5572 non-null   object\n",
            " 1   v2          5572 non-null   object\n",
            " 2   Unnamed: 2  50 non-null     object\n",
            " 3   Unnamed: 3  12 non-null     object\n",
            " 4   Unnamed: 4  6 non-null      object\n",
            "dtypes: object(5)\n",
            "memory usage: 217.8+ KB\n"
          ]
        }
      ]
    },
    {
      "cell_type": "code",
      "source": [
        "df[df['Unnamed: 2'].notnull()].head()"
      ],
      "metadata": {
        "colab": {
          "base_uri": "https://localhost:8080/",
          "height": 206
        },
        "id": "7LOz9M8GWXEf",
        "outputId": "7731c469-004e-4286-e956-1c504f672f5e"
      },
      "execution_count": 6,
      "outputs": [
        {
          "output_type": "execute_result",
          "data": {
            "text/plain": [
              "       v1                                                 v2  \\\n",
              "95   spam  Your free ringtone is waiting to be collected....   \n",
              "281   ham                                \\Wen u miss someone   \n",
              "444   ham  \\HEY HEY WERETHE MONKEESPEOPLE SAY WE MONKEYAR...   \n",
              "671  spam         SMS. ac sun0819 posts HELLO:\\You seem cool   \n",
              "710   ham  Height of Confidence: All the Aeronautics prof...   \n",
              "\n",
              "                                            Unnamed: 2             Unnamed: 3  \\\n",
              "95                                         PO Box 5249   MK17 92H. 450Ppw 16\"   \n",
              "281   the person is definitely special for u..... B...       why to miss them   \n",
              "444   HOWU DOIN? FOUNDURSELF A JOBYET SAUSAGE?LOVE ...                    NaN   \n",
              "671   wanted to say hi. HI!!!\\\" Stop? Send STOP to ...                    NaN   \n",
              "710    this wont even start........ Datz confidence..\"                    NaN   \n",
              "\n",
              "                         Unnamed: 4  \n",
              "95                              NaN  \n",
              "281   just Keep-in-touch\\\" gdeve..\"  \n",
              "444                             NaN  \n",
              "671                             NaN  \n",
              "710                             NaN  "
            ],
            "text/html": [
              "\n",
              "  <div id=\"df-2718b75f-4ead-40fe-ac40-13b9284cc8b4\">\n",
              "    <div class=\"colab-df-container\">\n",
              "      <div>\n",
              "<style scoped>\n",
              "    .dataframe tbody tr th:only-of-type {\n",
              "        vertical-align: middle;\n",
              "    }\n",
              "\n",
              "    .dataframe tbody tr th {\n",
              "        vertical-align: top;\n",
              "    }\n",
              "\n",
              "    .dataframe thead th {\n",
              "        text-align: right;\n",
              "    }\n",
              "</style>\n",
              "<table border=\"1\" class=\"dataframe\">\n",
              "  <thead>\n",
              "    <tr style=\"text-align: right;\">\n",
              "      <th></th>\n",
              "      <th>v1</th>\n",
              "      <th>v2</th>\n",
              "      <th>Unnamed: 2</th>\n",
              "      <th>Unnamed: 3</th>\n",
              "      <th>Unnamed: 4</th>\n",
              "    </tr>\n",
              "  </thead>\n",
              "  <tbody>\n",
              "    <tr>\n",
              "      <th>95</th>\n",
              "      <td>spam</td>\n",
              "      <td>Your free ringtone is waiting to be collected....</td>\n",
              "      <td>PO Box 5249</td>\n",
              "      <td>MK17 92H. 450Ppw 16\"</td>\n",
              "      <td>NaN</td>\n",
              "    </tr>\n",
              "    <tr>\n",
              "      <th>281</th>\n",
              "      <td>ham</td>\n",
              "      <td>\\Wen u miss someone</td>\n",
              "      <td>the person is definitely special for u..... B...</td>\n",
              "      <td>why to miss them</td>\n",
              "      <td>just Keep-in-touch\\\" gdeve..\"</td>\n",
              "    </tr>\n",
              "    <tr>\n",
              "      <th>444</th>\n",
              "      <td>ham</td>\n",
              "      <td>\\HEY HEY WERETHE MONKEESPEOPLE SAY WE MONKEYAR...</td>\n",
              "      <td>HOWU DOIN? FOUNDURSELF A JOBYET SAUSAGE?LOVE ...</td>\n",
              "      <td>NaN</td>\n",
              "      <td>NaN</td>\n",
              "    </tr>\n",
              "    <tr>\n",
              "      <th>671</th>\n",
              "      <td>spam</td>\n",
              "      <td>SMS. ac sun0819 posts HELLO:\\You seem cool</td>\n",
              "      <td>wanted to say hi. HI!!!\\\" Stop? Send STOP to ...</td>\n",
              "      <td>NaN</td>\n",
              "      <td>NaN</td>\n",
              "    </tr>\n",
              "    <tr>\n",
              "      <th>710</th>\n",
              "      <td>ham</td>\n",
              "      <td>Height of Confidence: All the Aeronautics prof...</td>\n",
              "      <td>this wont even start........ Datz confidence..\"</td>\n",
              "      <td>NaN</td>\n",
              "      <td>NaN</td>\n",
              "    </tr>\n",
              "  </tbody>\n",
              "</table>\n",
              "</div>\n",
              "      <button class=\"colab-df-convert\" onclick=\"convertToInteractive('df-2718b75f-4ead-40fe-ac40-13b9284cc8b4')\"\n",
              "              title=\"Convert this dataframe to an interactive table.\"\n",
              "              style=\"display:none;\">\n",
              "        \n",
              "  <svg xmlns=\"http://www.w3.org/2000/svg\" height=\"24px\"viewBox=\"0 0 24 24\"\n",
              "       width=\"24px\">\n",
              "    <path d=\"M0 0h24v24H0V0z\" fill=\"none\"/>\n",
              "    <path d=\"M18.56 5.44l.94 2.06.94-2.06 2.06-.94-2.06-.94-.94-2.06-.94 2.06-2.06.94zm-11 1L8.5 8.5l.94-2.06 2.06-.94-2.06-.94L8.5 2.5l-.94 2.06-2.06.94zm10 10l.94 2.06.94-2.06 2.06-.94-2.06-.94-.94-2.06-.94 2.06-2.06.94z\"/><path d=\"M17.41 7.96l-1.37-1.37c-.4-.4-.92-.59-1.43-.59-.52 0-1.04.2-1.43.59L10.3 9.45l-7.72 7.72c-.78.78-.78 2.05 0 2.83L4 21.41c.39.39.9.59 1.41.59.51 0 1.02-.2 1.41-.59l7.78-7.78 2.81-2.81c.8-.78.8-2.07 0-2.86zM5.41 20L4 18.59l7.72-7.72 1.47 1.35L5.41 20z\"/>\n",
              "  </svg>\n",
              "      </button>\n",
              "      \n",
              "  <style>\n",
              "    .colab-df-container {\n",
              "      display:flex;\n",
              "      flex-wrap:wrap;\n",
              "      gap: 12px;\n",
              "    }\n",
              "\n",
              "    .colab-df-convert {\n",
              "      background-color: #E8F0FE;\n",
              "      border: none;\n",
              "      border-radius: 50%;\n",
              "      cursor: pointer;\n",
              "      display: none;\n",
              "      fill: #1967D2;\n",
              "      height: 32px;\n",
              "      padding: 0 0 0 0;\n",
              "      width: 32px;\n",
              "    }\n",
              "\n",
              "    .colab-df-convert:hover {\n",
              "      background-color: #E2EBFA;\n",
              "      box-shadow: 0px 1px 2px rgba(60, 64, 67, 0.3), 0px 1px 3px 1px rgba(60, 64, 67, 0.15);\n",
              "      fill: #174EA6;\n",
              "    }\n",
              "\n",
              "    [theme=dark] .colab-df-convert {\n",
              "      background-color: #3B4455;\n",
              "      fill: #D2E3FC;\n",
              "    }\n",
              "\n",
              "    [theme=dark] .colab-df-convert:hover {\n",
              "      background-color: #434B5C;\n",
              "      box-shadow: 0px 1px 3px 1px rgba(0, 0, 0, 0.15);\n",
              "      filter: drop-shadow(0px 1px 2px rgba(0, 0, 0, 0.3));\n",
              "      fill: #FFFFFF;\n",
              "    }\n",
              "  </style>\n",
              "\n",
              "      <script>\n",
              "        const buttonEl =\n",
              "          document.querySelector('#df-2718b75f-4ead-40fe-ac40-13b9284cc8b4 button.colab-df-convert');\n",
              "        buttonEl.style.display =\n",
              "          google.colab.kernel.accessAllowed ? 'block' : 'none';\n",
              "\n",
              "        async function convertToInteractive(key) {\n",
              "          const element = document.querySelector('#df-2718b75f-4ead-40fe-ac40-13b9284cc8b4');\n",
              "          const dataTable =\n",
              "            await google.colab.kernel.invokeFunction('convertToInteractive',\n",
              "                                                     [key], {});\n",
              "          if (!dataTable) return;\n",
              "\n",
              "          const docLinkHtml = 'Like what you see? Visit the ' +\n",
              "            '<a target=\"_blank\" href=https://colab.research.google.com/notebooks/data_table.ipynb>data table notebook</a>'\n",
              "            + ' to learn more about interactive tables.';\n",
              "          element.innerHTML = '';\n",
              "          dataTable['output_type'] = 'display_data';\n",
              "          await google.colab.output.renderOutput(dataTable, element);\n",
              "          const docLink = document.createElement('div');\n",
              "          docLink.innerHTML = docLinkHtml;\n",
              "          element.appendChild(docLink);\n",
              "        }\n",
              "      </script>\n",
              "    </div>\n",
              "  </div>\n",
              "  "
            ]
          },
          "metadata": {},
          "execution_count": 6
        }
      ]
    },
    {
      "cell_type": "markdown",
      "source": [
        "removing all unwanted columns"
      ],
      "metadata": {
        "id": "xDZb6KI8XbM8"
      }
    },
    {
      "cell_type": "code",
      "source": [
        "df.columns.values"
      ],
      "metadata": {
        "colab": {
          "base_uri": "https://localhost:8080/"
        },
        "id": "qTj0uce_bGkC",
        "outputId": "bfbddfc4-a7f3-4591-a778-603abcf48c67"
      },
      "execution_count": 7,
      "outputs": [
        {
          "output_type": "execute_result",
          "data": {
            "text/plain": [
              "array(['v1', 'v2', 'Unnamed: 2', 'Unnamed: 3', 'Unnamed: 4'], dtype=object)"
            ]
          },
          "metadata": {},
          "execution_count": 7
        }
      ]
    },
    {
      "cell_type": "code",
      "source": [
        "df.drop(['Unnamed: 2', 'Unnamed: 3', 'Unnamed: 4'], axis=1, inplace = True)"
      ],
      "metadata": {
        "id": "ygJbx_3SXaqM"
      },
      "execution_count": 8,
      "outputs": []
    },
    {
      "cell_type": "code",
      "source": [
        "df.rename(columns = {'v1':'status','v2':'message'}, inplace = True)"
      ],
      "metadata": {
        "id": "6yqOgM-bbRXx"
      },
      "execution_count": 9,
      "outputs": []
    },
    {
      "cell_type": "code",
      "source": [
        "df"
      ],
      "metadata": {
        "colab": {
          "base_uri": "https://localhost:8080/",
          "height": 424
        },
        "id": "0YpHEx1hbsgz",
        "outputId": "5948d442-5a23-4d09-d508-fae313a801c0"
      },
      "execution_count": 10,
      "outputs": [
        {
          "output_type": "execute_result",
          "data": {
            "text/plain": [
              "     status                                            message\n",
              "0       ham  Go until jurong point, crazy.. Available only ...\n",
              "1       ham                      Ok lar... Joking wif u oni...\n",
              "2      spam  Free entry in 2 a wkly comp to win FA Cup fina...\n",
              "3       ham  U dun say so early hor... U c already then say...\n",
              "4       ham  Nah I don't think he goes to usf, he lives aro...\n",
              "...     ...                                                ...\n",
              "5567   spam  This is the 2nd time we have tried 2 contact u...\n",
              "5568    ham              Will Ì_ b going to esplanade fr home?\n",
              "5569    ham  Pity, * was in mood for that. So...any other s...\n",
              "5570    ham  The guy did some bitching but I acted like i'd...\n",
              "5571    ham                         Rofl. Its true to its name\n",
              "\n",
              "[5572 rows x 2 columns]"
            ],
            "text/html": [
              "\n",
              "  <div id=\"df-441ce6ea-ff96-4c18-a3b5-d4c8c33eda5c\">\n",
              "    <div class=\"colab-df-container\">\n",
              "      <div>\n",
              "<style scoped>\n",
              "    .dataframe tbody tr th:only-of-type {\n",
              "        vertical-align: middle;\n",
              "    }\n",
              "\n",
              "    .dataframe tbody tr th {\n",
              "        vertical-align: top;\n",
              "    }\n",
              "\n",
              "    .dataframe thead th {\n",
              "        text-align: right;\n",
              "    }\n",
              "</style>\n",
              "<table border=\"1\" class=\"dataframe\">\n",
              "  <thead>\n",
              "    <tr style=\"text-align: right;\">\n",
              "      <th></th>\n",
              "      <th>status</th>\n",
              "      <th>message</th>\n",
              "    </tr>\n",
              "  </thead>\n",
              "  <tbody>\n",
              "    <tr>\n",
              "      <th>0</th>\n",
              "      <td>ham</td>\n",
              "      <td>Go until jurong point, crazy.. Available only ...</td>\n",
              "    </tr>\n",
              "    <tr>\n",
              "      <th>1</th>\n",
              "      <td>ham</td>\n",
              "      <td>Ok lar... Joking wif u oni...</td>\n",
              "    </tr>\n",
              "    <tr>\n",
              "      <th>2</th>\n",
              "      <td>spam</td>\n",
              "      <td>Free entry in 2 a wkly comp to win FA Cup fina...</td>\n",
              "    </tr>\n",
              "    <tr>\n",
              "      <th>3</th>\n",
              "      <td>ham</td>\n",
              "      <td>U dun say so early hor... U c already then say...</td>\n",
              "    </tr>\n",
              "    <tr>\n",
              "      <th>4</th>\n",
              "      <td>ham</td>\n",
              "      <td>Nah I don't think he goes to usf, he lives aro...</td>\n",
              "    </tr>\n",
              "    <tr>\n",
              "      <th>...</th>\n",
              "      <td>...</td>\n",
              "      <td>...</td>\n",
              "    </tr>\n",
              "    <tr>\n",
              "      <th>5567</th>\n",
              "      <td>spam</td>\n",
              "      <td>This is the 2nd time we have tried 2 contact u...</td>\n",
              "    </tr>\n",
              "    <tr>\n",
              "      <th>5568</th>\n",
              "      <td>ham</td>\n",
              "      <td>Will Ì_ b going to esplanade fr home?</td>\n",
              "    </tr>\n",
              "    <tr>\n",
              "      <th>5569</th>\n",
              "      <td>ham</td>\n",
              "      <td>Pity, * was in mood for that. So...any other s...</td>\n",
              "    </tr>\n",
              "    <tr>\n",
              "      <th>5570</th>\n",
              "      <td>ham</td>\n",
              "      <td>The guy did some bitching but I acted like i'd...</td>\n",
              "    </tr>\n",
              "    <tr>\n",
              "      <th>5571</th>\n",
              "      <td>ham</td>\n",
              "      <td>Rofl. Its true to its name</td>\n",
              "    </tr>\n",
              "  </tbody>\n",
              "</table>\n",
              "<p>5572 rows × 2 columns</p>\n",
              "</div>\n",
              "      <button class=\"colab-df-convert\" onclick=\"convertToInteractive('df-441ce6ea-ff96-4c18-a3b5-d4c8c33eda5c')\"\n",
              "              title=\"Convert this dataframe to an interactive table.\"\n",
              "              style=\"display:none;\">\n",
              "        \n",
              "  <svg xmlns=\"http://www.w3.org/2000/svg\" height=\"24px\"viewBox=\"0 0 24 24\"\n",
              "       width=\"24px\">\n",
              "    <path d=\"M0 0h24v24H0V0z\" fill=\"none\"/>\n",
              "    <path d=\"M18.56 5.44l.94 2.06.94-2.06 2.06-.94-2.06-.94-.94-2.06-.94 2.06-2.06.94zm-11 1L8.5 8.5l.94-2.06 2.06-.94-2.06-.94L8.5 2.5l-.94 2.06-2.06.94zm10 10l.94 2.06.94-2.06 2.06-.94-2.06-.94-.94-2.06-.94 2.06-2.06.94z\"/><path d=\"M17.41 7.96l-1.37-1.37c-.4-.4-.92-.59-1.43-.59-.52 0-1.04.2-1.43.59L10.3 9.45l-7.72 7.72c-.78.78-.78 2.05 0 2.83L4 21.41c.39.39.9.59 1.41.59.51 0 1.02-.2 1.41-.59l7.78-7.78 2.81-2.81c.8-.78.8-2.07 0-2.86zM5.41 20L4 18.59l7.72-7.72 1.47 1.35L5.41 20z\"/>\n",
              "  </svg>\n",
              "      </button>\n",
              "      \n",
              "  <style>\n",
              "    .colab-df-container {\n",
              "      display:flex;\n",
              "      flex-wrap:wrap;\n",
              "      gap: 12px;\n",
              "    }\n",
              "\n",
              "    .colab-df-convert {\n",
              "      background-color: #E8F0FE;\n",
              "      border: none;\n",
              "      border-radius: 50%;\n",
              "      cursor: pointer;\n",
              "      display: none;\n",
              "      fill: #1967D2;\n",
              "      height: 32px;\n",
              "      padding: 0 0 0 0;\n",
              "      width: 32px;\n",
              "    }\n",
              "\n",
              "    .colab-df-convert:hover {\n",
              "      background-color: #E2EBFA;\n",
              "      box-shadow: 0px 1px 2px rgba(60, 64, 67, 0.3), 0px 1px 3px 1px rgba(60, 64, 67, 0.15);\n",
              "      fill: #174EA6;\n",
              "    }\n",
              "\n",
              "    [theme=dark] .colab-df-convert {\n",
              "      background-color: #3B4455;\n",
              "      fill: #D2E3FC;\n",
              "    }\n",
              "\n",
              "    [theme=dark] .colab-df-convert:hover {\n",
              "      background-color: #434B5C;\n",
              "      box-shadow: 0px 1px 3px 1px rgba(0, 0, 0, 0.15);\n",
              "      filter: drop-shadow(0px 1px 2px rgba(0, 0, 0, 0.3));\n",
              "      fill: #FFFFFF;\n",
              "    }\n",
              "  </style>\n",
              "\n",
              "      <script>\n",
              "        const buttonEl =\n",
              "          document.querySelector('#df-441ce6ea-ff96-4c18-a3b5-d4c8c33eda5c button.colab-df-convert');\n",
              "        buttonEl.style.display =\n",
              "          google.colab.kernel.accessAllowed ? 'block' : 'none';\n",
              "\n",
              "        async function convertToInteractive(key) {\n",
              "          const element = document.querySelector('#df-441ce6ea-ff96-4c18-a3b5-d4c8c33eda5c');\n",
              "          const dataTable =\n",
              "            await google.colab.kernel.invokeFunction('convertToInteractive',\n",
              "                                                     [key], {});\n",
              "          if (!dataTable) return;\n",
              "\n",
              "          const docLinkHtml = 'Like what you see? Visit the ' +\n",
              "            '<a target=\"_blank\" href=https://colab.research.google.com/notebooks/data_table.ipynb>data table notebook</a>'\n",
              "            + ' to learn more about interactive tables.';\n",
              "          element.innerHTML = '';\n",
              "          dataTable['output_type'] = 'display_data';\n",
              "          await google.colab.output.renderOutput(dataTable, element);\n",
              "          const docLink = document.createElement('div');\n",
              "          docLink.innerHTML = docLinkHtml;\n",
              "          element.appendChild(docLink);\n",
              "        }\n",
              "      </script>\n",
              "    </div>\n",
              "  </div>\n",
              "  "
            ]
          },
          "metadata": {},
          "execution_count": 10
        }
      ]
    },
    {
      "cell_type": "code",
      "source": [
        "import matplotlib.pyplot as plt\n",
        "import seaborn as sns"
      ],
      "metadata": {
        "id": "2kJ9e9mztRkc"
      },
      "execution_count": 11,
      "outputs": []
    },
    {
      "cell_type": "markdown",
      "source": [
        "#understanding the output class distribution\n",
        "the classes are almost balanced"
      ],
      "metadata": {
        "id": "dKWaXIilJBlO"
      }
    },
    {
      "cell_type": "code",
      "source": [
        "sns.countplot(df['status'])"
      ],
      "metadata": {
        "colab": {
          "base_uri": "https://localhost:8080/",
          "height": 352
        },
        "id": "zO9gu3OItpFu",
        "outputId": "bdccd055-c47f-47c5-b892-f08af0bb5e3b"
      },
      "execution_count": 12,
      "outputs": [
        {
          "output_type": "stream",
          "name": "stderr",
          "text": [
            "/usr/local/lib/python3.7/dist-packages/seaborn/_decorators.py:43: FutureWarning: Pass the following variable as a keyword arg: x. From version 0.12, the only valid positional argument will be `data`, and passing other arguments without an explicit keyword will result in an error or misinterpretation.\n",
            "  FutureWarning\n"
          ]
        },
        {
          "output_type": "execute_result",
          "data": {
            "text/plain": [
              "<matplotlib.axes._subplots.AxesSubplot at 0x7f6974d9ad90>"
            ]
          },
          "metadata": {},
          "execution_count": 12
        },
        {
          "output_type": "display_data",
          "data": {
            "text/plain": [
              "<Figure size 432x288 with 1 Axes>"
            ],
            "image/png": "[encoded data removed]"
          },
          "metadata": {
            "needs_background": "light"
          }
        }
      ]
    },
    {
      "cell_type": "markdown",
      "source": [
        "importing libraries"
      ],
      "metadata": {
        "id": "jkySbBaOJPlY"
      }
    },
    {
      "cell_type": "code",
      "source": [
        "from nltk.stem.porter import PorterStemmer\n",
        "from keras_preprocessing.sequence import pad_sequences\n",
        "from keras.layers import Dense, Embedding, LSTM, SpatialDropout1D\n",
        "from keras.models import Sequential\n",
        "from sklearn.feature_extraction.text import CountVectorizer\n",
        "from keras.preprocessing.text import Tokenizer\n",
        "from sklearn.model_selection import train_test_split\n",
        "from keras.utils.np_utils import to_categorical\n",
        "from keras.callbacks import EarlyStopping"
      ],
      "metadata": {
        "id": "1_lz5eJxt4KG"
      },
      "execution_count": 13,
      "outputs": []
    },
    {
      "cell_type": "markdown",
      "source": [
        "tokenising the news data and zero padding to the fixed size "
      ],
      "metadata": {
        "id": "3ouS6pAvJUjN"
      }
    },
    {
      "cell_type": "code",
      "source": [
        "n_most_common_words = 8000\n",
        "max_len = 130\n",
        "tokenizer = Tokenizer(num_words=n_most_common_words, filters='!\"#$%&()*+,-./:;<=>?@[\\]^_`{|}~', lower=True)\n",
        "tokenizer.fit_on_texts(df['message'].values)\n",
        "sequences = tokenizer.texts_to_sequences(df['message'].values)\n",
        "word_index = tokenizer.word_index\n",
        "print('Found %s unique tokens.' % len(word_index))\n",
        "\n",
        "X = pad_sequences(sequences, maxlen=max_len)"
      ],
      "metadata": {
        "colab": {
          "base_uri": "https://localhost:8080/"
        },
        "id": "92hiVZE5QvGF",
        "outputId": "18f0d12d-663e-4afd-8d40-1e570707c5b2"
      },
      "execution_count": 16,
      "outputs": [
        {
          "output_type": "stream",
          "name": "stdout",
          "text": [
            "Found 8920 unique tokens.\n"
          ]
        }
      ]
    },
    {
      "cell_type": "markdown",
      "source": [
        "verifying th tokenised output and zero padding "
      ],
      "metadata": {
        "id": "NuC4QfBBJgpk"
      }
    },
    {
      "cell_type": "code",
      "source": [
        "print(len(sequences))\n",
        "print(len(sequences[0]))\n",
        "print(len(X))\n",
        "print(len(X[0]))"
      ],
      "metadata": {
        "colab": {
          "base_uri": "https://localhost:8080/"
        },
        "id": "dSQwRq6uVvjr",
        "outputId": "9385efe2-e210-4b5b-aa17-2b533f58945c"
      },
      "execution_count": 17,
      "outputs": [
        {
          "output_type": "stream",
          "name": "stdout",
          "text": [
            "5572\n",
            "20\n",
            "5572\n",
            "130\n"
          ]
        }
      ]
    },
    {
      "cell_type": "markdown",
      "source": [
        "label Encoding the output column"
      ],
      "metadata": {
        "id": "MMYI5xmyJppc"
      }
    },
    {
      "cell_type": "code",
      "source": [
        "from sklearn import preprocessing\n",
        "label_encoder = preprocessing.LabelEncoder()\n",
        "labels= label_encoder.fit_transform(df['status'])"
      ],
      "metadata": {
        "id": "wTqE_QBfYAfh"
      },
      "execution_count": 21,
      "outputs": []
    },
    {
      "cell_type": "code",
      "source": [
        "labels"
      ],
      "metadata": {
        "colab": {
          "base_uri": "https://localhost:8080/"
        },
        "id": "BwmUVkkvEHr0",
        "outputId": "9eb0a791-fba8-4347-ae62-a9d77ee11fa7"
      },
      "execution_count": 22,
      "outputs": [
        {
          "output_type": "execute_result",
          "data": {
            "text/plain": [
              "array([0, 0, 1, ..., 0, 0, 0])"
            ]
          },
          "metadata": {},
          "execution_count": 22
        }
      ]
    },
    {
      "cell_type": "markdown",
      "source": [
        "creating the output column to 5 dimesional vector"
      ],
      "metadata": {
        "id": "wTxwJqC8Jz9s"
      }
    },
    {
      "cell_type": "code",
      "source": [
        "labels = to_categorical(labels, num_classes=2)"
      ],
      "metadata": {
        "id": "jDWlntxnDiXf"
      },
      "execution_count": 35,
      "outputs": []
    },
    {
      "cell_type": "code",
      "source": [
        "labels"
      ],
      "metadata": {
        "colab": {
          "base_uri": "https://localhost:8080/"
        },
        "id": "ZhMflAaCERN0",
        "outputId": "f6e5c4dd-2911-488f-bda7-917188730171"
      },
      "execution_count": 36,
      "outputs": [
        {
          "output_type": "execute_result",
          "data": {
            "text/plain": [
              "array([[1., 0.],\n",
              "       [1., 0.],\n",
              "       [0., 1.],\n",
              "       ...,\n",
              "       [1., 0.],\n",
              "       [1., 0.],\n",
              "       [1., 0.]], dtype=float32)"
            ]
          },
          "metadata": {},
          "execution_count": 36
        }
      ]
    },
    {
      "cell_type": "markdown",
      "source": [
        "splitting data to train and test for proper evaluaton"
      ],
      "metadata": {
        "id": "ieLGe-T5J7Js"
      }
    },
    {
      "cell_type": "code",
      "source": [
        "X_train, X_test, y_train, y_test = train_test_split(X , labels, test_size=0.25, random_state=42)"
      ],
      "metadata": {
        "id": "m7kySmwPbqyj"
      },
      "execution_count": 37,
      "outputs": []
    },
    {
      "cell_type": "markdown",
      "source": [
        "verifying the split"
      ],
      "metadata": {
        "id": "Hg-zUBYpKB2D"
      }
    },
    {
      "cell_type": "code",
      "source": [
        "print((X_train.shape, y_train.shape, X_test.shape, y_test.shape))"
      ],
      "metadata": {
        "colab": {
          "base_uri": "https://localhost:8080/"
        },
        "id": "82iA55zwcSEp",
        "outputId": "eb7b231f-c092-4d26-dece-a9c92b237b85"
      },
      "execution_count": 38,
      "outputs": [
        {
          "output_type": "stream",
          "name": "stdout",
          "text": [
            "((4179, 130), (4179, 2), (1393, 130), (1393, 2))\n"
          ]
        }
      ]
    },
    {
      "cell_type": "markdown",
      "source": [
        "defining the training paramters"
      ],
      "metadata": {
        "id": "QNxs0REHKE1r"
      }
    },
    {
      "cell_type": "code",
      "source": [
        "epochs = 50\n",
        "emb_dim = 100\n",
        "batch_size = 64"
      ],
      "metadata": {
        "id": "6Es1Lrd9cr9d"
      },
      "execution_count": 46,
      "outputs": []
    },
    {
      "cell_type": "markdown",
      "source": [
        "creating the model"
      ],
      "metadata": {
        "id": "MiW9f0naKJMz"
      }
    },
    {
      "cell_type": "code",
      "source": [
        "model = Sequential()\n",
        "model.add(Embedding(n_most_common_words, emb_dim, input_length=X.shape[1]))\n",
        "model.add(SpatialDropout1D(0.7))\n",
        "model.add(LSTM(64, dropout=0.7, recurrent_dropout=0.7))\n",
        "model.add(Dense(2, activation='softmax'))"
      ],
      "metadata": {
        "id": "3AuqU81vcYVt"
      },
      "execution_count": 49,
      "outputs": []
    },
    {
      "cell_type": "code",
      "source": [
        "model.compile(optimizer='adam', loss='categorical_crossentropy', metrics=['acc'])\n",
        "print(model.summary())"
      ],
      "metadata": {
        "colab": {
          "base_uri": "https://localhost:8080/"
        },
        "id": "KM10kjxhcvoN",
        "outputId": "df6fb376-fe6e-4fe7-b369-2e573387efde"
      },
      "execution_count": 50,
      "outputs": [
        {
          "output_type": "stream",
          "name": "stdout",
          "text": [
            "Model: \"sequential_6\"\n",
            "_________________________________________________________________\n",
            " Layer (type)                Output Shape              Param #   \n",
            "=================================================================\n",
            " embedding_6 (Embedding)     (None, 130, 100)          800000    \n",
            "                                                                 \n",
            " spatial_dropout1d_6 (Spatia  (None, 130, 100)         0         \n",
            " lDropout1D)                                                     \n",
            "                                                                 \n",
            " lstm_6 (LSTM)               (None, 64)                42240     \n",
            "                                                                 \n",
            " dense_6 (Dense)             (None, 2)                 130       \n",
            "                                                                 \n",
            "=================================================================\n",
            "Total params: 842,370\n",
            "Trainable params: 842,370\n",
            "Non-trainable params: 0\n",
            "_________________________________________________________________\n",
            "None\n"
          ]
        }
      ]
    },
    {
      "cell_type": "markdown",
      "source": [
        "training the model"
      ],
      "metadata": {
        "id": "hbvcl9lGKL5D"
      }
    },
    {
      "cell_type": "code",
      "source": [
        "history = model.fit(X_train, y_train, epochs=epochs, batch_size=batch_size,validation_split=0.2,callbacks=[EarlyStopping(monitor='val_loss',patience=7, min_delta=0.01)])"
      ],
      "metadata": {
        "colab": {
          "base_uri": "https://localhost:8080/"
        },
        "id": "Kyj6FhJEeW_K",
        "outputId": "4e211e9e-3452-433d-a768-faaea6883488"
      },
      "execution_count": 52,
      "outputs": [
        {
          "output_type": "stream",
          "name": "stdout",
          "text": [
            "Epoch 1/50\n",
            "53/53 [==============================] - 16s 296ms/step - loss: 0.1454 - acc: 0.9569 - val_loss: 0.0842 - val_acc: 0.9797\n",
            "Epoch 2/50\n",
            "53/53 [==============================] - 16s 308ms/step - loss: 0.0758 - acc: 0.9776 - val_loss: 0.0540 - val_acc: 0.9856\n",
            "Epoch 3/50\n",
            "53/53 [==============================] - 15s 284ms/step - loss: 0.0514 - acc: 0.9829 - val_loss: 0.0592 - val_acc: 0.9844\n",
            "Epoch 4/50\n",
            "53/53 [==============================] - 15s 285ms/step - loss: 0.0402 - acc: 0.9883 - val_loss: 0.0430 - val_acc: 0.9856\n",
            "Epoch 5/50\n",
            "53/53 [==============================] - 15s 285ms/step - loss: 0.0300 - acc: 0.9919 - val_loss: 0.0527 - val_acc: 0.9868\n",
            "Epoch 6/50\n",
            "53/53 [==============================] - 15s 287ms/step - loss: 0.0227 - acc: 0.9949 - val_loss: 0.0611 - val_acc: 0.9856\n",
            "Epoch 7/50\n",
            "53/53 [==============================] - 15s 286ms/step - loss: 0.0139 - acc: 0.9952 - val_loss: 0.0446 - val_acc: 0.9892\n",
            "Epoch 8/50\n",
            "53/53 [==============================] - 15s 286ms/step - loss: 0.0174 - acc: 0.9937 - val_loss: 0.0619 - val_acc: 0.9868\n",
            "Epoch 9/50\n",
            "53/53 [==============================] - 15s 286ms/step - loss: 0.0146 - acc: 0.9958 - val_loss: 0.0467 - val_acc: 0.9904\n",
            "Epoch 10/50\n",
            "53/53 [==============================] - 15s 285ms/step - loss: 0.0080 - acc: 0.9976 - val_loss: 0.0672 - val_acc: 0.9868\n",
            "Epoch 11/50\n",
            "53/53 [==============================] - 15s 287ms/step - loss: 0.0078 - acc: 0.9976 - val_loss: 0.0519 - val_acc: 0.9892\n"
          ]
        }
      ]
    },
    {
      "cell_type": "markdown",
      "source": [
        "evaluating the model on test data"
      ],
      "metadata": {
        "id": "lbtQ1Q67KPv7"
      }
    },
    {
      "cell_type": "code",
      "source": [
        "accr = model.evaluate(X_test,y_test)\n",
        "print('loss and accuracy on the test data are {},{}'.format(round(accr[0],2),round(accr[1],2)))"
      ],
      "metadata": {
        "colab": {
          "base_uri": "https://localhost:8080/"
        },
        "id": "Wv_FuSZngyyI",
        "outputId": "5f787d8d-db4f-4829-c6a0-ff790a844f7f"
      },
      "execution_count": 59,
      "outputs": [
        {
          "output_type": "stream",
          "name": "stdout",
          "text": [
            "44/44 [==============================] - 2s 45ms/step - loss: 0.0743 - acc: 0.9835\n",
            "loss and accuracy on the test data are 0.07,0.98\n"
          ]
        }
      ]
    },
    {
      "cell_type": "code",
      "source": [
        "pred = model.predict(X_test)"
      ],
      "metadata": {
        "colab": {
          "base_uri": "https://localhost:8080/"
        },
        "id": "Dt0LoyH6FmhH",
        "outputId": "df5a1ab8-5c15-4489-b3a3-b27078ffe05c"
      },
      "execution_count": 60,
      "outputs": [
        {
          "output_type": "stream",
          "name": "stdout",
          "text": [
            "44/44 [==============================] - 2s 28ms/step\n"
          ]
        }
      ]
    },
    {
      "cell_type": "markdown",
      "source": [
        "converting the output data back to one dimension"
      ],
      "metadata": {
        "id": "cb_ZO-8MKVfh"
      }
    },
    {
      "cell_type": "code",
      "source": [
        "pred_cat = np.argmax(pred, axis=-1)\n",
        "test_cat = np.argmax(y_test, axis=-1)"
      ],
      "metadata": {
        "id": "hLr_udoDHg39"
      },
      "execution_count": 61,
      "outputs": []
    },
    {
      "cell_type": "markdown",
      "source": [
        "Comparing the visualisation of both of the test and train data"
      ],
      "metadata": {
        "id": "uGGnKChJKbLq"
      }
    },
    {
      "cell_type": "code",
      "source": [
        "plt.subplot(1,2,1)\n",
        "sns.countplot(pred_cat)\n",
        "plt.subplot(1,2,2)\n",
        "sns.countplot(test_cat)"
      ],
      "metadata": {
        "colab": {
          "base_uri": "https://localhost:8080/",
          "height": 372
        },
        "id": "3BC8ypa1HnK4",
        "outputId": "d703a3d3-3a60-4454-c5e5-7e7490b867b1"
      },
      "execution_count": 62,
      "outputs": [
        {
          "output_type": "stream",
          "name": "stderr",
          "text": [
            "/usr/local/lib/python3.7/dist-packages/seaborn/_decorators.py:43: FutureWarning: Pass the following variable as a keyword arg: x. From version 0.12, the only valid positional argument will be `data`, and passing other arguments without an explicit keyword will result in an error or misinterpretation.\n",
            "  FutureWarning\n",
            "/usr/local/lib/python3.7/dist-packages/seaborn/_decorators.py:43: FutureWarning: Pass the following variable as a keyword arg: x. From version 0.12, the only valid positional argument will be `data`, and passing other arguments without an explicit keyword will result in an error or misinterpretation.\n",
            "  FutureWarning\n"
          ]
        },
        {
          "output_type": "execute_result",
          "data": {
            "text/plain": [
              "<matplotlib.axes._subplots.AxesSubplot at 0x7f6905ef8250>"
            ]
          },
          "metadata": {},
          "execution_count": 62
        },
        {
          "output_type": "display_data",
          "data": {
            "text/plain": [
              "<Figure size 432x288 with 2 Axes>"
            ],
            "image/png": "[encoded data removed]"
          },
          "metadata": {
            "needs_background": "light"
          }
        }
      ]
    },
    {
      "cell_type": "markdown",
      "source": [
        "#model using Word2vec"
      ],
      "metadata": {
        "id": "WY5_Gs3-pY1h"
      }
    },
    {
      "cell_type": "markdown",
      "source": [
        "importing trained word2vec"
      ],
      "metadata": {
        "id": "hEi9-7qaSYI8"
      }
    },
    {
      "cell_type": "code",
      "source": [
        "import gensim.downloader as api\n",
        "glove_gensim  = api.load('glove-wiki-gigaword-100')"
      ],
      "metadata": {
        "id": "dy61z2IIIa0w",
        "colab": {
          "base_uri": "https://localhost:8080/"
        },
        "outputId": "13c5db82-b7f4-4efa-c2a7-5dd3b188e720"
      },
      "execution_count": 63,
      "outputs": [
        {
          "output_type": "stream",
          "name": "stdout",
          "text": [
            "[==================================================] 100.0% 128.1/128.1MB downloaded\n"
          ]
        }
      ]
    },
    {
      "cell_type": "markdown",
      "source": [
        "finding the output dimension of the vector"
      ],
      "metadata": {
        "id": "Z9kpDDitSeCr"
      }
    },
    {
      "cell_type": "code",
      "source": [
        "glove_gensim['text'].shape"
      ],
      "metadata": {
        "colab": {
          "base_uri": "https://localhost:8080/"
        },
        "id": "IAXss3qPpmE9",
        "outputId": "dffe4b0d-b8d4-478b-b5a2-5a20d4adeb30"
      },
      "execution_count": 66,
      "outputs": [
        {
          "output_type": "execute_result",
          "data": {
            "text/plain": [
              "(100,)"
            ]
          },
          "metadata": {},
          "execution_count": 66
        }
      ]
    },
    {
      "cell_type": "markdown",
      "source": [
        "creating a numpy array containing all the the vectors curresponding to token"
      ],
      "metadata": {
        "id": "gmQpk4N_Sxiq"
      }
    },
    {
      "cell_type": "code",
      "source": [
        "vector_size = 100\n",
        "total_words = 8000\n",
        "gensim_weight_matrix = np.zeros((total_words ,vector_size))\n",
        "gensim_weight_matrix.shape\n",
        "\n",
        "for word, index in tokenizer.word_index.items():\n",
        "    if index < total_words: # since index starts with zero \n",
        "        if word in glove_gensim.wv.vocab:\n",
        "            gensim_weight_matrix[index] = glove_gensim[word]\n",
        "        else:\n",
        "            gensim_weight_matrix[index] = np.zeros(100)"
      ],
      "metadata": {
        "colab": {
          "base_uri": "https://localhost:8080/"
        },
        "id": "KrLyWCk3q3sJ",
        "outputId": "7e65703f-0c48-4b0d-b3aa-5fab5e91f00f"
      },
      "execution_count": 67,
      "outputs": [
        {
          "output_type": "stream",
          "name": "stderr",
          "text": [
            "/usr/local/lib/python3.7/dist-packages/ipykernel_launcher.py:8: DeprecationWarning: Call to deprecated `wv` (Attribute will be removed in 4.0.0, use self instead).\n",
            "  \n"
          ]
        }
      ]
    },
    {
      "cell_type": "markdown",
      "source": [
        "verifying the vector array "
      ],
      "metadata": {
        "id": "jm7Fcz3STEQJ"
      }
    },
    {
      "cell_type": "code",
      "source": [
        "gensim_weight_matrix.shape"
      ],
      "metadata": {
        "colab": {
          "base_uri": "https://localhost:8080/"
        },
        "id": "ZCpPIZ7o-t6O",
        "outputId": "8daf06c5-ded0-4580-8170-0b1131e223c6"
      },
      "execution_count": 69,
      "outputs": [
        {
          "output_type": "execute_result",
          "data": {
            "text/plain": [
              "(8000, 100)"
            ]
          },
          "metadata": {},
          "execution_count": 69
        }
      ]
    },
    {
      "cell_type": "markdown",
      "source": [
        "creating the model and passing vector array of token words"
      ],
      "metadata": {
        "id": "M02zZQ73TJOb"
      }
    },
    {
      "cell_type": "code",
      "source": [
        "model2 = Sequential()\n",
        "model2.add(Embedding(n_most_common_words, vector_size, input_length=X.shape[1],weights = [gensim_weight_matrix],trainable = False))\n",
        "model2.add(SpatialDropout1D(0.7))\n",
        "model2.add(LSTM(64, dropout=0.7, recurrent_dropout=0.7))\n",
        "model2.add(Dense(2, activation='softmax'))"
      ],
      "metadata": {
        "id": "MsqcxjccOM1x"
      },
      "execution_count": 84,
      "outputs": []
    },
    {
      "cell_type": "code",
      "source": [
        "model2.compile(optimizer='adam', loss='categorical_crossentropy', metrics=['acc'])\n",
        "print(model.summary())"
      ],
      "metadata": {
        "colab": {
          "base_uri": "https://localhost:8080/"
        },
        "id": "ZNdZHhWfPpuk",
        "outputId": "1391b596-d10a-4595-9366-224d77b87fa0"
      },
      "execution_count": 85,
      "outputs": [
        {
          "output_type": "stream",
          "name": "stdout",
          "text": [
            "Model: \"sequential_6\"\n",
            "_________________________________________________________________\n",
            " Layer (type)                Output Shape              Param #   \n",
            "=================================================================\n",
            " embedding_6 (Embedding)     (None, 130, 100)          800000    \n",
            "                                                                 \n",
            " spatial_dropout1d_6 (Spatia  (None, 130, 100)         0         \n",
            " lDropout1D)                                                     \n",
            "                                                                 \n",
            " lstm_6 (LSTM)               (None, 64)                42240     \n",
            "                                                                 \n",
            " dense_6 (Dense)             (None, 2)                 130       \n",
            "                                                                 \n",
            "=================================================================\n",
            "Total params: 842,370\n",
            "Trainable params: 842,370\n",
            "Non-trainable params: 0\n",
            "_________________________________________________________________\n",
            "None\n"
          ]
        }
      ]
    },
    {
      "cell_type": "markdown",
      "source": [
        "training the model"
      ],
      "metadata": {
        "id": "vP8kJOAYTd9I"
      }
    },
    {
      "cell_type": "code",
      "source": [
        "history = model2.fit(X_train, y_train, epochs=epochs, batch_size=batch_size,validation_split=0.2,callbacks=[EarlyStopping(monitor='val_loss',patience=7, min_delta=0.01)])"
      ],
      "metadata": {
        "colab": {
          "base_uri": "https://localhost:8080/"
        },
        "id": "dkuvTphZPsPs",
        "outputId": "c3b95007-3fd6-4696-bd26-d0451b179bcd"
      },
      "execution_count": 86,
      "outputs": [
        {
          "output_type": "stream",
          "name": "stdout",
          "text": [
            "Epoch 1/50\n",
            "53/53 [==============================] - 18s 282ms/step - loss: 0.4473 - acc: 0.8166 - val_loss: 0.5120 - val_acc: 0.8660\n",
            "Epoch 2/50\n",
            "53/53 [==============================] - 13s 249ms/step - loss: 0.2843 - acc: 0.8842 - val_loss: 0.5188 - val_acc: 0.8696\n",
            "Epoch 3/50\n",
            "53/53 [==============================] - 18s 338ms/step - loss: 0.2184 - acc: 0.9109 - val_loss: 0.5191 - val_acc: 0.8732\n",
            "Epoch 4/50\n",
            "53/53 [==============================] - 19s 356ms/step - loss: 0.1995 - acc: 0.9180 - val_loss: 0.2357 - val_acc: 0.9342\n",
            "Epoch 5/50\n",
            "53/53 [==============================] - 18s 343ms/step - loss: 0.1867 - acc: 0.9309 - val_loss: 0.2029 - val_acc: 0.9402\n",
            "Epoch 6/50\n",
            "53/53 [==============================] - 13s 249ms/step - loss: 0.1795 - acc: 0.9297 - val_loss: 0.1868 - val_acc: 0.9438\n",
            "Epoch 7/50\n",
            "53/53 [==============================] - 13s 248ms/step - loss: 0.1880 - acc: 0.9291 - val_loss: 0.2087 - val_acc: 0.9378\n",
            "Epoch 8/50\n",
            "53/53 [==============================] - 13s 248ms/step - loss: 0.1707 - acc: 0.9378 - val_loss: 0.1889 - val_acc: 0.9450\n",
            "Epoch 9/50\n",
            "53/53 [==============================] - 13s 248ms/step - loss: 0.1676 - acc: 0.9345 - val_loss: 0.2118 - val_acc: 0.9438\n",
            "Epoch 10/50\n",
            "53/53 [==============================] - 15s 284ms/step - loss: 0.1651 - acc: 0.9384 - val_loss: 0.1873 - val_acc: 0.9486\n",
            "Epoch 11/50\n",
            "53/53 [==============================] - 13s 247ms/step - loss: 0.1608 - acc: 0.9402 - val_loss: 0.1763 - val_acc: 0.9474\n",
            "Epoch 12/50\n",
            "53/53 [==============================] - 13s 248ms/step - loss: 0.1634 - acc: 0.9417 - val_loss: 0.1803 - val_acc: 0.9474\n",
            "Epoch 13/50\n",
            "53/53 [==============================] - 13s 248ms/step - loss: 0.1593 - acc: 0.9408 - val_loss: 0.1640 - val_acc: 0.9474\n",
            "Epoch 14/50\n",
            "53/53 [==============================] - 13s 248ms/step - loss: 0.1466 - acc: 0.9453 - val_loss: 0.1790 - val_acc: 0.9498\n",
            "Epoch 15/50\n",
            "53/53 [==============================] - 14s 272ms/step - loss: 0.1439 - acc: 0.9447 - val_loss: 0.1866 - val_acc: 0.9486\n",
            "Epoch 16/50\n",
            "53/53 [==============================] - 17s 317ms/step - loss: 0.1549 - acc: 0.9399 - val_loss: 0.1543 - val_acc: 0.9474\n",
            "Epoch 17/50\n",
            "53/53 [==============================] - 14s 268ms/step - loss: 0.1530 - acc: 0.9408 - val_loss: 0.1511 - val_acc: 0.9462\n",
            "Epoch 18/50\n",
            "53/53 [==============================] - 13s 250ms/step - loss: 0.1567 - acc: 0.9408 - val_loss: 0.1448 - val_acc: 0.9462\n",
            "Epoch 19/50\n",
            "53/53 [==============================] - 15s 275ms/step - loss: 0.1432 - acc: 0.9468 - val_loss: 0.1561 - val_acc: 0.9498\n",
            "Epoch 20/50\n",
            "53/53 [==============================] - 13s 251ms/step - loss: 0.1469 - acc: 0.9456 - val_loss: 0.1463 - val_acc: 0.9462\n",
            "Epoch 21/50\n",
            "53/53 [==============================] - 13s 249ms/step - loss: 0.1475 - acc: 0.9483 - val_loss: 0.1445 - val_acc: 0.9450\n",
            "Epoch 22/50\n",
            "53/53 [==============================] - 13s 250ms/step - loss: 0.1461 - acc: 0.9450 - val_loss: 0.1514 - val_acc: 0.9450\n",
            "Epoch 23/50\n",
            "53/53 [==============================] - 13s 249ms/step - loss: 0.1408 - acc: 0.9503 - val_loss: 0.1397 - val_acc: 0.9522\n",
            "Epoch 24/50\n",
            "53/53 [==============================] - 15s 274ms/step - loss: 0.1539 - acc: 0.9453 - val_loss: 0.1349 - val_acc: 0.9522\n",
            "Epoch 25/50\n",
            "53/53 [==============================] - 13s 249ms/step - loss: 0.1343 - acc: 0.9488 - val_loss: 0.1342 - val_acc: 0.9533\n",
            "Epoch 26/50\n",
            "53/53 [==============================] - 13s 248ms/step - loss: 0.1334 - acc: 0.9515 - val_loss: 0.1348 - val_acc: 0.9510\n",
            "Epoch 27/50\n",
            "53/53 [==============================] - 13s 248ms/step - loss: 0.1394 - acc: 0.9480 - val_loss: 0.1313 - val_acc: 0.9557\n",
            "Epoch 28/50\n",
            "53/53 [==============================] - 15s 276ms/step - loss: 0.1397 - acc: 0.9488 - val_loss: 0.1411 - val_acc: 0.9498\n",
            "Epoch 29/50\n",
            "53/53 [==============================] - 13s 253ms/step - loss: 0.1329 - acc: 0.9536 - val_loss: 0.1460 - val_acc: 0.9557\n",
            "Epoch 30/50\n",
            "53/53 [==============================] - 15s 292ms/step - loss: 0.1374 - acc: 0.9483 - val_loss: 0.1272 - val_acc: 0.9569\n",
            "Epoch 31/50\n",
            "53/53 [==============================] - 13s 253ms/step - loss: 0.1376 - acc: 0.9503 - val_loss: 0.1249 - val_acc: 0.9569\n",
            "Epoch 32/50\n",
            "53/53 [==============================] - 13s 248ms/step - loss: 0.1358 - acc: 0.9524 - val_loss: 0.1255 - val_acc: 0.9557\n",
            "Epoch 33/50\n",
            "53/53 [==============================] - 14s 272ms/step - loss: 0.1321 - acc: 0.9497 - val_loss: 0.1280 - val_acc: 0.9486\n",
            "Epoch 34/50\n",
            "53/53 [==============================] - 13s 247ms/step - loss: 0.1285 - acc: 0.9557 - val_loss: 0.1218 - val_acc: 0.9617\n",
            "Epoch 35/50\n",
            "53/53 [==============================] - 13s 246ms/step - loss: 0.1251 - acc: 0.9551 - val_loss: 0.1161 - val_acc: 0.9617\n",
            "Epoch 36/50\n",
            "53/53 [==============================] - 13s 246ms/step - loss: 0.1282 - acc: 0.9539 - val_loss: 0.1136 - val_acc: 0.9629\n",
            "Epoch 37/50\n",
            "53/53 [==============================] - 13s 249ms/step - loss: 0.1261 - acc: 0.9536 - val_loss: 0.1220 - val_acc: 0.9629\n",
            "Epoch 38/50\n",
            "53/53 [==============================] - 15s 285ms/step - loss: 0.1305 - acc: 0.9471 - val_loss: 0.1230 - val_acc: 0.9557\n",
            "Epoch 39/50\n",
            "53/53 [==============================] - 13s 248ms/step - loss: 0.1206 - acc: 0.9578 - val_loss: 0.1430 - val_acc: 0.9557\n",
            "Epoch 40/50\n",
            "53/53 [==============================] - 13s 248ms/step - loss: 0.1232 - acc: 0.9584 - val_loss: 0.1168 - val_acc: 0.9617\n",
            "Epoch 41/50\n",
            "53/53 [==============================] - 14s 262ms/step - loss: 0.1280 - acc: 0.9545 - val_loss: 0.1200 - val_acc: 0.9617\n",
            "Epoch 42/50\n",
            "53/53 [==============================] - 13s 250ms/step - loss: 0.1283 - acc: 0.9560 - val_loss: 0.1214 - val_acc: 0.9533\n"
          ]
        }
      ]
    },
    {
      "cell_type": "markdown",
      "source": [
        "finding the accuracy of the model"
      ],
      "metadata": {
        "id": "payVW2HLTijf"
      }
    },
    {
      "cell_type": "code",
      "source": [
        "accr = model2.evaluate(X_test,y_test)\n",
        "print('loss and accuracy on the test data are {},{}'.format(round(accr[0],2),round(accr[1],2)))"
      ],
      "metadata": {
        "colab": {
          "base_uri": "https://localhost:8080/"
        },
        "id": "yiy8YK1OP6X6",
        "outputId": "d9e1e677-68de-439d-f926-e490e029aeeb"
      },
      "execution_count": 88,
      "outputs": [
        {
          "output_type": "stream",
          "name": "stdout",
          "text": [
            "44/44 [==============================] - 1s 28ms/step - loss: 0.1149 - acc: 0.9634\n",
            "loss and accuracy on the test data are 0.11,0.96\n"
          ]
        }
      ]
    },
    {
      "cell_type": "code",
      "source": [
        "pred = model2.predict(X_test)"
      ],
      "metadata": {
        "colab": {
          "base_uri": "https://localhost:8080/"
        },
        "id": "ei7M7WkGR-07",
        "outputId": "297dcbf0-f845-42b8-a8d4-f473e3db83fe"
      },
      "execution_count": 89,
      "outputs": [
        {
          "output_type": "stream",
          "name": "stdout",
          "text": [
            "44/44 [==============================] - 2s 30ms/step\n"
          ]
        }
      ]
    },
    {
      "cell_type": "code",
      "source": [
        "pred_cat = np.argmax(pred, axis=-1)\n",
        "test_cat = np.argmax(y_test, axis=-1)"
      ],
      "metadata": {
        "id": "ncVuOwjJSKWj"
      },
      "execution_count": 90,
      "outputs": []
    },
    {
      "cell_type": "code",
      "source": [
        "plt.subplot(1,2,1)\n",
        "sns.countplot(pred_cat)\n",
        "plt.subplot(1,2,2)\n",
        "sns.countplot(test_cat)"
      ],
      "metadata": {
        "colab": {
          "base_uri": "https://localhost:8080/",
          "height": 372
        },
        "id": "UpmEopwtSL6F",
        "outputId": "8597f745-d555-46b9-f0ec-a8c2f39b381a"
      },
      "execution_count": 91,
      "outputs": [
        {
          "output_type": "stream",
          "name": "stderr",
          "text": [
            "/usr/local/lib/python3.7/dist-packages/seaborn/_decorators.py:43: FutureWarning: Pass the following variable as a keyword arg: x. From version 0.12, the only valid positional argument will be `data`, and passing other arguments without an explicit keyword will result in an error or misinterpretation.\n",
            "  FutureWarning\n",
            "/usr/local/lib/python3.7/dist-packages/seaborn/_decorators.py:43: FutureWarning: Pass the following variable as a keyword arg: x. From version 0.12, the only valid positional argument will be `data`, and passing other arguments without an explicit keyword will result in an error or misinterpretation.\n",
            "  FutureWarning\n"
          ]
        },
        {
          "output_type": "execute_result",
          "data": {
            "text/plain": [
              "<matplotlib.axes._subplots.AxesSubplot at 0x7f68fc7485d0>"
            ]
          },
          "metadata": {},
          "execution_count": 91
        },
        {
          "output_type": "display_data",
          "data": {
            "text/plain": [
              "<Figure size 432x288 with 2 Axes>"
            ],
            "image/png": "[encoded data removed]"
          },
          "metadata": {
            "needs_background": "light"
          }
        }
      ]
    },
    {
      "cell_type": "markdown",
      "source": [
        "since data is imbalanced , finding the confusion matrix"
      ],
      "metadata": {
        "id": "FWC8Gq6rT-t2"
      }
    },
    {
      "cell_type": "code",
      "source": [
        "from sklearn import metrics"
      ],
      "metadata": {
        "id": "O0n9SSbqSNZw"
      },
      "execution_count": 92,
      "outputs": []
    },
    {
      "cell_type": "code",
      "source": [
        "print(metrics.classification_report(pred_cat, test_cat))"
      ],
      "metadata": {
        "colab": {
          "base_uri": "https://localhost:8080/"
        },
        "id": "0Dy21k5RUq6H",
        "outputId": "1c23e4d8-4c53-4a94-d0a3-6625b07e1279"
      },
      "execution_count": 94,
      "outputs": [
        {
          "output_type": "stream",
          "name": "stdout",
          "text": [
            "              precision    recall  f1-score   support\n",
            "\n",
            "           0       0.99      0.97      0.98      1237\n",
            "           1       0.77      0.95      0.85       156\n",
            "\n",
            "    accuracy                           0.96      1393\n",
            "   macro avg       0.88      0.96      0.92      1393\n",
            "weighted avg       0.97      0.96      0.96      1393\n",
            "\n"
          ]
        }
      ]
    },
    {
      "cell_type": "code",
      "source": [],
      "metadata": {
        "id": "ZC96GindXVMi"
      },
      "execution_count": null,
      "outputs": []
    }
  ]
}